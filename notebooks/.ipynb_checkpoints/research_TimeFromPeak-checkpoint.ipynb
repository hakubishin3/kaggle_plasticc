{
 "cells": [
  {
   "cell_type": "code",
   "execution_count": 1,
   "metadata": {},
   "outputs": [],
   "source": [
    "import pandas as pd\n",
    "import matplotlib.pyplot as plt\n",
    "import seaborn as sns\n",
    "from tqdm import tqdm\n",
    "import numpy as np\n",
    "from IPython.display import display\n",
    "from scipy import stats\n",
    "from collections import OrderedDict\n",
    "import celerite\n",
    "from celerite import terms"
   ]
  },
  {
   "cell_type": "code",
   "execution_count": 2,
   "metadata": {},
   "outputs": [
    {
     "data": {
      "text/html": [
       "<div>\n",
       "<style scoped>\n",
       "    .dataframe tbody tr th:only-of-type {\n",
       "        vertical-align: middle;\n",
       "    }\n",
       "\n",
       "    .dataframe tbody tr th {\n",
       "        vertical-align: top;\n",
       "    }\n",
       "\n",
       "    .dataframe thead th {\n",
       "        text-align: right;\n",
       "    }\n",
       "</style>\n",
       "<table border=\"1\" class=\"dataframe\">\n",
       "  <thead>\n",
       "    <tr style=\"text-align: right;\">\n",
       "      <th></th>\n",
       "      <th>object_id</th>\n",
       "      <th>mjd</th>\n",
       "      <th>passband</th>\n",
       "      <th>flux</th>\n",
       "      <th>flux_err</th>\n",
       "      <th>detected</th>\n",
       "    </tr>\n",
       "  </thead>\n",
       "  <tbody>\n",
       "    <tr>\n",
       "      <th>0</th>\n",
       "      <td>615</td>\n",
       "      <td>59750.4229</td>\n",
       "      <td>2</td>\n",
       "      <td>-544.810303</td>\n",
       "      <td>3.622952</td>\n",
       "      <td>1</td>\n",
       "    </tr>\n",
       "    <tr>\n",
       "      <th>1</th>\n",
       "      <td>615</td>\n",
       "      <td>59750.4306</td>\n",
       "      <td>1</td>\n",
       "      <td>-816.434326</td>\n",
       "      <td>5.553370</td>\n",
       "      <td>1</td>\n",
       "    </tr>\n",
       "    <tr>\n",
       "      <th>2</th>\n",
       "      <td>615</td>\n",
       "      <td>59750.4383</td>\n",
       "      <td>3</td>\n",
       "      <td>-471.385529</td>\n",
       "      <td>3.801213</td>\n",
       "      <td>1</td>\n",
       "    </tr>\n",
       "    <tr>\n",
       "      <th>3</th>\n",
       "      <td>615</td>\n",
       "      <td>59750.4450</td>\n",
       "      <td>4</td>\n",
       "      <td>-388.984985</td>\n",
       "      <td>11.395031</td>\n",
       "      <td>1</td>\n",
       "    </tr>\n",
       "    <tr>\n",
       "      <th>4</th>\n",
       "      <td>615</td>\n",
       "      <td>59752.4070</td>\n",
       "      <td>2</td>\n",
       "      <td>-681.858887</td>\n",
       "      <td>4.041204</td>\n",
       "      <td>1</td>\n",
       "    </tr>\n",
       "  </tbody>\n",
       "</table>\n",
       "</div>"
      ],
      "text/plain": [
       "   object_id         mjd  passband        flux   flux_err  detected\n",
       "0        615  59750.4229         2 -544.810303   3.622952         1\n",
       "1        615  59750.4306         1 -816.434326   5.553370         1\n",
       "2        615  59750.4383         3 -471.385529   3.801213         1\n",
       "3        615  59750.4450         4 -388.984985  11.395031         1\n",
       "4        615  59752.4070         2 -681.858887   4.041204         1"
      ]
     },
     "metadata": {},
     "output_type": "display_data"
    }
   ],
   "source": [
    "train_ts = pd.read_csv(\"../data/input/training_set.csv\")\n",
    "display(train_ts.head())"
   ]
  },
  {
   "cell_type": "code",
   "execution_count": 46,
   "metadata": {},
   "outputs": [],
   "source": [
    "def _find_peak(extract_passband):\n",
    "    import warnings\n",
    "    warnings.filterwarnings(\"ignore\")\n",
    "    \n",
    "    extract_passband[\"flux_add_err\"] = extract_passband[\"flux\"] + extract_passband[\"flux_err\"]\n",
    "    peak_flux = extract_passband[\"flux\"].max()\n",
    "    peak_point = extract_passband[extract_passband.flux == peak_flux][\"mjd\"].values[0]\n",
    "\n",
    "    data_before_peak = extract_passband.query('mjd < @peak_point')\n",
    "    data_after_peak = extract_passband.query('mjd > @peak_point')\n",
    "\n",
    "    min_flux_before = extract_passband[\"flux\"].min()\n",
    "    min_flux_after = extract_passband[\"flux\"].min()\n",
    "    flux_diff_before = peak_flux - min_flux_before\n",
    "    flux_diff_after = peak_flux - min_flux_after\n",
    "\n",
    "    result_list = []\n",
    "    thres_per_list = [0.2, 0.3, 0.4, 0.5, 0.6, 0.7, 0.8, 0.9]\n",
    "\n",
    "    result_after = []\n",
    "    for thres_per in thres_per_list:\n",
    "        thres = min_flux_before + flux_diff_before * thres_per\n",
    "        point = data_after_peak.query(\"flux < @thres\")[\"mjd\"].min()\n",
    "        diff_point = point - peak_point\n",
    "        result_after.append(diff_point)\n",
    "    result_list.extend(result_after)\n",
    "\n",
    "    result_before = []\n",
    "    for thres_per in thres_per_list:\n",
    "        thres = min_flux_after + flux_diff_after * thres_per\n",
    "        point = data_before_peak.query(\"flux < @thres\")[\"mjd\"].max()\n",
    "        diff_point = peak_point - point\n",
    "        result_before.append(diff_point)\n",
    "    result_list.extend(result_before)\n",
    "\n",
    "    result_diff = []\n",
    "    for af, bef in zip(result_after, result_before):\n",
    "        result_diff.append(af + bef)\n",
    "    result_list.extend(result_diff)\n",
    "\n",
    "    return result_after, result_before, result_diff"
   ]
  },
  {
   "cell_type": "code",
   "execution_count": 47,
   "metadata": {
    "scrolled": false
   },
   "outputs": [
    {
     "data": {
      "image/png": "[encoded data removed]",
      "text/plain": [
       "<Figure size 432x288 with 1 Axes>"
      ]
     },
     "metadata": {},
     "output_type": "display_data"
    },
    {
     "data": {
      "text/plain": [
       "([65.863400000002,\n",
       "  59.063600000001315,\n",
       "  37.80600000000413,\n",
       "  37.80600000000413,\n",
       "  23.941600000005565,\n",
       "  23.941600000005565,\n",
       "  23.941600000005565,\n",
       "  12.107800000005227],\n",
       " [16.968000000000757,\n",
       "  16.968000000000757,\n",
       "  16.968000000000757,\n",
       "  16.968000000000757,\n",
       "  16.968000000000757,\n",
       "  16.968000000000757,\n",
       "  16.968000000000757,\n",
       "  16.968000000000757],\n",
       " [82.83140000000276,\n",
       "  76.03160000000207,\n",
       "  54.77400000000489,\n",
       "  54.77400000000489,\n",
       "  40.90960000000632,\n",
       "  40.90960000000632,\n",
       "  40.90960000000632,\n",
       "  29.075800000005984])"
      ]
     },
     "execution_count": 47,
     "metadata": {},
     "output_type": "execute_result"
    }
   ],
   "source": [
    "sample = train_ts.query('object_id == 19213 & passband == 2')\n",
    "x = sample[\"mjd\"]\n",
    "y = sample[\"flux\"]\n",
    "y_err = sample[\"flux_err\"]\n",
    "plt.scatter(x, y)\n",
    "plt.errorbar(x, y, y_err)\n",
    "plt.show()\n",
    "\n",
    "_find_peak(sample)"
   ]
  }
 ],
 "metadata": {
  "kernelspec": {
   "display_name": "Python 3",
   "language": "python",
   "name": "python3"
  },
  "language_info": {
   "codemirror_mode": {
    "name": "ipython",
    "version": 3
   },
   "file_extension": ".py",
   "mimetype": "text/x-python",
   "name": "python",
   "nbconvert_exporter": "python",
   "pygments_lexer": "ipython3",
   "version": "3.6.5"
  }
 },
 "nbformat": 4,
 "nbformat_minor": 2
}
