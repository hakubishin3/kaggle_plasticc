{
 "cells": [
  {
   "cell_type": "code",
   "execution_count": 1,
   "metadata": {},
   "outputs": [],
   "source": [
    "import pandas as pd\n",
    "import matplotlib.pyplot as plt\n",
    "import seaborn as sns\n",
    "import numpy as np\n",
    "from IPython.display import display\n",
    "from scipy import stats\n",
    "from astropy.stats import LombScargle\n",
    "from astropy.time import Time\n",
    "from joblib import Parallel, delayed"
   ]
  },
  {
   "cell_type": "code",
   "execution_count": 2,
   "metadata": {},
   "outputs": [
    {
     "data": {
      "text/html": [
       "<div>\n",
       "<style scoped>\n",
       "    .dataframe tbody tr th:only-of-type {\n",
       "        vertical-align: middle;\n",
       "    }\n",
       "\n",
       "    .dataframe tbody tr th {\n",
       "        vertical-align: top;\n",
       "    }\n",
       "\n",
       "    .dataframe thead th {\n",
       "        text-align: right;\n",
       "    }\n",
       "</style>\n",
       "<table border=\"1\" class=\"dataframe\">\n",
       "  <thead>\n",
       "    <tr style=\"text-align: right;\">\n",
       "      <th></th>\n",
       "      <th>object_id</th>\n",
       "      <th>mjd</th>\n",
       "      <th>passband</th>\n",
       "      <th>flux</th>\n",
       "      <th>flux_err</th>\n",
       "      <th>detected</th>\n",
       "    </tr>\n",
       "  </thead>\n",
       "  <tbody>\n",
       "    <tr>\n",
       "      <th>0</th>\n",
       "      <td>615</td>\n",
       "      <td>59750.4229</td>\n",
       "      <td>2</td>\n",
       "      <td>-544.810303</td>\n",
       "      <td>3.622952</td>\n",
       "      <td>1</td>\n",
       "    </tr>\n",
       "    <tr>\n",
       "      <th>1</th>\n",
       "      <td>615</td>\n",
       "      <td>59750.4306</td>\n",
       "      <td>1</td>\n",
       "      <td>-816.434326</td>\n",
       "      <td>5.553370</td>\n",
       "      <td>1</td>\n",
       "    </tr>\n",
       "    <tr>\n",
       "      <th>2</th>\n",
       "      <td>615</td>\n",
       "      <td>59750.4383</td>\n",
       "      <td>3</td>\n",
       "      <td>-471.385529</td>\n",
       "      <td>3.801213</td>\n",
       "      <td>1</td>\n",
       "    </tr>\n",
       "    <tr>\n",
       "      <th>3</th>\n",
       "      <td>615</td>\n",
       "      <td>59750.4450</td>\n",
       "      <td>4</td>\n",
       "      <td>-388.984985</td>\n",
       "      <td>11.395031</td>\n",
       "      <td>1</td>\n",
       "    </tr>\n",
       "    <tr>\n",
       "      <th>4</th>\n",
       "      <td>615</td>\n",
       "      <td>59752.4070</td>\n",
       "      <td>2</td>\n",
       "      <td>-681.858887</td>\n",
       "      <td>4.041204</td>\n",
       "      <td>1</td>\n",
       "    </tr>\n",
       "  </tbody>\n",
       "</table>\n",
       "</div>"
      ],
      "text/plain": [
       "   object_id         mjd  passband        flux   flux_err  detected\n",
       "0        615  59750.4229         2 -544.810303   3.622952         1\n",
       "1        615  59750.4306         1 -816.434326   5.553370         1\n",
       "2        615  59750.4383         3 -471.385529   3.801213         1\n",
       "3        615  59750.4450         4 -388.984985  11.395031         1\n",
       "4        615  59752.4070         2 -681.858887   4.041204         1"
      ]
     },
     "metadata": {},
     "output_type": "display_data"
    }
   ],
   "source": [
    "train_ts = pd.read_csv(\"../data/input/training_set.csv\")\n",
    "train_meta = pd.read_csv(\"../data/input/training_set_metadata.csv\")\n",
    "display(train_ts.head())"
   ]
  },
  {
   "cell_type": "code",
   "execution_count": 15,
   "metadata": {},
   "outputs": [],
   "source": [
    "def get_divided_point(obj_data, thres_dist=100):\n",
    "    obj_data = obj_data.sort_values('mjd', ascending=True)\n",
    "    diff_mjd = obj_data.groupby('object_id')[['mjd']].diff()\n",
    "    points = obj_data[diff_mjd > thres_dist][\"mjd\"].dropna().values\n",
    "    points = np.concatenate([points, np.array([obj_data[\"mjd\"].max()+1])])\n",
    "    points = np.concatenate([np.array([obj_data[\"mjd\"].min()-1]), points])\n",
    "    \n",
    "    result = []\n",
    "    for i in range(len(points) - 1):\n",
    "        result.append((points[i], points[i+1]))\n",
    "\n",
    "    return result\n",
    "\n",
    "def get_maxpoint(obj_data, thres_dict=100):\n",
    "    points = get_divided_point(obj_data, thres_dict)\n",
    "\n",
    "    max_result = []\n",
    "    for point in points:\n",
    "        max_value = obj_data.query('mjd >= @point[0] & mjd < @point[1]')[\"flux\"].max()\n",
    "        if max_value != max_value:\n",
    "            max_value = 0\n",
    "        max_result.append(max_value)\n",
    "\n",
    "    max_point = points[np.argmax(max_result)]\n",
    "    return obj_data.query('mjd >= @max_point[0] & mjd < @max_point[1]')\n",
    "\n",
    "def add_maxpoint(ts_data, meta_data):\n",
    "    object_id_list = ts_data.object_id.unique().tolist()\n",
    "    results = Parallel(n_jobs=-1)(\n",
    "        [delayed(get_maxpoint)(ts_data.query('object_id == @object_id')) for object_id in object_id_list])\n",
    "    ts_data = pd.concat(results, axis=0, ignore_index=True)\n",
    "    return ts_data"
   ]
  },
  {
   "cell_type": "code",
   "execution_count": 4,
   "metadata": {},
   "outputs": [],
   "source": [
    "add_ts = add_maxpoint(train_ts, train_meta)"
   ]
  },
  {
   "cell_type": "code",
   "execution_count": 5,
   "metadata": {},
   "outputs": [
    {
     "data": {
      "text/plain": [
       "(7848,)"
      ]
     },
     "execution_count": 5,
     "metadata": {},
     "output_type": "execute_result"
    }
   ],
   "source": [
    "add_ts.object_id.unique().shape"
   ]
  },
  {
   "cell_type": "code",
   "execution_count": 16,
   "metadata": {
    "scrolled": true
   },
   "outputs": [
    {
     "name": "stdout",
     "output_type": "stream",
     "text": [
      "[(59619.2326, 59946.3589), (59946.3589, 60334.2886), (60334.2886, 60666.3563), (60666.3563, 60667.3563)]\n"
     ]
    },
    {
     "data": {
      "image/png": "[encoded data removed]",
      "text/plain": [
       "<Figure size 432x288 with 1 Axes>"
      ]
     },
     "metadata": {},
     "output_type": "display_data"
    },
    {
     "data": {
      "image/png": "[encoded data removed]",
      "text/plain": [
       "<Figure size 432x288 with 1 Axes>"
      ]
     },
     "metadata": {},
     "output_type": "display_data"
    }
   ],
   "source": [
    "sample = train_ts.query('object_id == 109477227')\n",
    "maxpoint = get_maxpoint(sample)\n",
    "points = get_divided_point(sample)\n",
    "print(points)\n",
    "\n",
    "for point in points:\n",
    "    extract = sample.query('mjd >= @point[0] & mjd < @point[1]')\n",
    "    t = extract[\"mjd\"]\n",
    "    y = extract[\"flux\"]\n",
    "    y_err = extract[\"flux_err\"]\n",
    "    plt.scatter(t, y)\n",
    "    plt.errorbar(t, y, y_err, fmt=\"o\")\n",
    "plt.show()\n",
    "\n",
    "t = maxpoint[\"mjd\"]\n",
    "y = maxpoint[\"flux\"]\n",
    "y_err = maxpoint[\"flux_err\"]\n",
    "plt.scatter(t, y)\n",
    "plt.errorbar(t, y, y_err, fmt=\"o\")\n",
    "plt.show()"
   ]
  },
  {
   "cell_type": "code",
   "execution_count": 17,
   "metadata": {
    "scrolled": false
   },
   "outputs": [
    {
     "name": "stdout",
     "output_type": "stream",
     "text": [
      "[(59619.2326, 59946.3589), (59946.3589, 60334.2886), (60334.2886, 60666.3563), (60666.3563, 60667.3563)]\n"
     ]
    },
    {
     "data": {
      "image/png": "[encoded data removed]",
      "text/plain": [
       "<Figure size 432x288 with 1 Axes>"
      ]
     },
     "metadata": {},
     "output_type": "display_data"
    },
    {
     "data": {
      "image/png": "[encoded data removed]",
      "text/plain": [
       "<Figure size 432x288 with 1 Axes>"
      ]
     },
     "metadata": {},
     "output_type": "display_data"
    }
   ],
   "source": [
    "sample = train_ts.query('object_id == 109477227')\n",
    "maxpoint = get_maxpoint(sample)\n",
    "points = get_divided_point(sample)\n",
    "print(points)\n",
    "\n",
    "for point in points:\n",
    "    extract = sample.query('mjd >= @point[0] & mjd < @point[1]')\n",
    "    t = extract[\"mjd\"]\n",
    "    y = extract[\"flux\"]\n",
    "    y_err = extract[\"flux_err\"]\n",
    "    plt.scatter(t, y)\n",
    "    plt.errorbar(t, y, y_err, fmt=\"o\")\n",
    "plt.show()\n",
    "\n",
    "t = maxpoint[\"mjd\"]\n",
    "y = maxpoint[\"flux\"]\n",
    "y_err = maxpoint[\"flux_err\"]\n",
    "plt.scatter(t, y)\n",
    "plt.errorbar(t, y, y_err, fmt=\"o\")\n",
    "plt.show()"
   ]
  }
 ],
 "metadata": {
  "kernelspec": {
   "display_name": "Python 3",
   "language": "python",
   "name": "python3"
  },
  "language_info": {
   "codemirror_mode": {
    "name": "ipython",
    "version": 3
   },
   "file_extension": ".py",
   "mimetype": "text/x-python",
   "name": "python",
   "nbconvert_exporter": "python",
   "pygments_lexer": "ipython3",
   "version": "3.6.5"
  }
 },
 "nbformat": 4,
 "nbformat_minor": 2
}
